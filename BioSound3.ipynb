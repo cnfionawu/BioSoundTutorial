{
 "cells": [
  {
   "cell_type": "markdown",
   "metadata": {},
   "source": [
    "# BioSound Tutorial 3.  Reading a series of BioSound h5 files and calculating some summary statistics\n",
    "### This notebook illustrates how to read BioSound objects that have been saved in h5 files and perform grouped averages and simple statistics"
   ]
  },
  {
   "cell_type": "markdown",
   "metadata": {},
   "source": [
    "## Step 1. Loading all the dependencies.  \n",
    "### numpy, matplotlib and soundsig should have been installed when you installed soundsig.  You might have to also install pandas."
   ]
  },
  {
   "cell_type": "code",
   "execution_count": 1,
   "metadata": {},
   "outputs": [],
   "source": [
    "# Import math, pandas and soundsig libraries\n",
    "import numpy as np\n",
    "import pandas as pd\n",
    "from soundsig.sound import BioSound \n",
    "\n",
    "import os\n"
   ]
  },
  {
   "cell_type": "markdown",
   "metadata": {},
   "source": [
    "## Step 2. Specifying the location of the sound files in BioSound format (h5 files).\n",
    "\n",
    "YOU WILL WANT TO CHANGE TO FOLLOWING CODE TO POINT TO THE RIGHT PLACE\n",
    "You will also want to change the location for storing the pandas table."
   ]
  },
  {
   "cell_type": "code",
   "execution_count": 2,
   "metadata": {},
   "outputs": [],
   "source": [
    "# Go to the folder that has the h5 files corresponding to the BioSound objects.\n",
    "os.chdir('/Users/frederictheunissen/Documents/Code/BioSoundTutorial/BirdCalls/h5files')\n",
    "\n",
    "tableStore = '/Users/frederictheunissen/Documents/Code/BioSoundTutorial/vocSelTable.h5'"
   ]
  },
  {
   "cell_type": "markdown",
   "metadata": {},
   "source": [
    "## Step 3. Looping through a set of bioSoundObjects to extract some features and storing them into a Pandas Data Frame."
   ]
  },
  {
   "cell_type": "code",
   "execution_count": 3,
   "metadata": {},
   "outputs": [
    {
     "name": "stdout",
     "output_type": "stream",
     "text": [
      "WhiRas44dd_110620-DC-03.h5\n",
      "YelGre5275_110615-DC-10.h5\n",
      "YelOra2575_110630-DC-48.h5\n",
      "WhiRas44dd_110620-DC-13.h5\n",
      "YelGre5275_110728-DC-20.h5\n",
      "WhiLbl0010_110421-DC-06.h5\n",
      "WhiRas44dd_110620-DC-07.h5\n",
      "YelOra2575_110630-DC-39.h5\n",
      "YelGre5275_110728-DC-24.h5\n",
      "WhiRas44dd_110620-DC-17.h5\n",
      "WhiLbl0010_110425-DC-14.h5\n",
      "WhiRas44dd_110620-DC-23.h5\n",
      "YelGre5275_110615-DC-04.h5\n",
      "WhiLbl0010_110421-DC-07.h5\n",
      "WhiRas44dd_110620-DC-06.h5\n",
      "YelOra2575_110630-DC-38.h5\n",
      "YelOra2575_110630-DC-28.h5\n",
      "WhiRas44dd_110620-DC-16.h5\n",
      "YelGre5275_110728-DC-25.h5\n",
      "WhiLbl0010_110411-DC-01.h5\n",
      "WhiRas44dd_110620-DC-22.h5\n",
      "YelGre5275_110615-DC-05.h5\n",
      "YelGre5275_110615-DC-11.h5\n",
      "YelOra2575_110630-DC-49.h5\n",
      "YelGre5275_110615-DC-01.h5\n",
      "YelGre5275_110728-DC-21.h5\n",
      "WhiRas44dd_110620-DC-12.h5\n",
      "YelGre5275_110616-DC-17.h5\n",
      "YelOra2575_110630-DC-37.h5\n",
      "WhiLbl0010_110502-DC-24.h5\n",
      "WhiRas44dd_110620-DC-09.h5\n",
      "WhiLbl0010_110421-DC-08.h5\n",
      "WhiRas44dd_110620-DC-19.h5\n",
      "YelOra2575_110630-DC-42.h5\n",
      "WhiLbl0010_110502-DC-20.h5\n",
      "YelGre5275_110616-DC-13.h5\n",
      "YelOra2575_110630-DC-33.h5\n",
      "WhiLbl0010_110428-DC-15.h5\n",
      "YelOra2575_110630-DC-46.h5\n",
      "WhiLbl0010_110502-DC-21.h5\n",
      "YelOra2575_110630-DC-32.h5\n",
      "WhiLbl0010_110418-DC-02.h5\n",
      "YelOra2575_110630-DC-47.h5\n",
      "YelGre5275_110616-DC-16.h5\n",
      "YelOra2575_110630-DC-36.h5\n",
      "WhiLbl0010_110502-DC-25.h5\n",
      "WhiRas44dd_110620-DC-08.h5\n",
      "WhiLbl0010_110421-DC-09.h5\n",
      "WhiRas44dd_110620-DC-18.h5\n",
      "YelOra2575_110630-DC-43.h5\n",
      "WhiRas44dd_110617-DC-01.h5\n",
      "WhiLbl0010_110502-DC-22.h5\n",
      "WhiLbl0010_110429-DC-17.h5\n",
      "WhiLbl0010_110422-DC-13.h5\n",
      "YelOra2575_110630-DC-44.h5\n",
      "YelOra2575_110630-DC-35.h5\n",
      "YelGre5275_110616-DC-15.h5\n",
      "YelOra2575_110630-DC-50.h5\n",
      "YelGre5275_110615-DC-08.h5\n",
      "YelOra2575_110630-DC-40.h5\n",
      "WhiRas44dd_110617-DC-02.h5\n",
      "YelOra2575_110630-DC-34.h5\n",
      "YelGre5275_110616-DC-14.h5\n",
      "YelGre5275_110701-DC-18.h5\n",
      "YelOra2575_110630-DC-41.h5\n",
      "WhiLbl0010_110502-DC-23.h5\n",
      "WhiLbl0010_110429-DC-16.h5\n",
      "YelGre5275_110728-DC-19.h5\n",
      "YelOra2575_110630-DC-45.h5\n",
      "WhiLbl0010_110421-DC-04.h5\n",
      "WhiRas44dd_110620-DC-05.h5\n",
      "WhiRas44dd_110620-DC-15.h5\n",
      "YelGre5275_110728-DC-26.h5\n",
      "YelGre5275_110615-DC-06.h5\n",
      "WhiRas44dd_110620-DC-21.h5\n",
      "YelGre5275_110615-DC-12.h5\n",
      "WhiLbl0010_110502-DC-18.h5\n",
      "YelGre5275_110615-DC-02.h5\n",
      "WhiRas44dd_110620-DC-25.h5\n",
      "YelGre5275_110728-DC-22.h5\n",
      "WhiRas44dd_110620-DC-11.h5\n",
      "WhiLbl0010_110502-DC-19.h5\n",
      "WhiLbl0010_110421-DC-11.h5\n",
      "YelGre5275_110615-DC-03.h5\n",
      "WhiRas44dd_110620-DC-24.h5\n",
      "WhiRas44dd_110620-DC-10.h5\n",
      "YelGre5275_110728-DC-23.h5\n",
      "WhiRas44dd_110620-DC-04.h5\n",
      "WhiRas44dd_110620-DC-14.h5\n",
      "YelGre5275_110615-DC-07.h5\n",
      "WhiRas44dd_110620-DC-20.h5\n"
     ]
    }
   ],
   "source": [
    "# vocSelData is going to be a list of dictionary containing the values that we are going to extract from each BioSound object.\n",
    "vocSelData = []\n",
    "\n",
    "# Looping through all the files\n",
    "for fname in os.listdir('.'):\n",
    "    if fname.endswith('.h5'):\n",
    "        \n",
    "        print(fname)\n",
    "        # Allocate object and read data\n",
    "        myBioSound = BioSound()\n",
    "        myBioSound.readh5(fname)\n",
    "        \n",
    "        # Take the time average formants \n",
    "        meanF1 = np.mean(myBioSound.F1[~np.isnan(myBioSound.F1)])\n",
    "        meanF2 = np.mean(myBioSound.F2[~np.isnan(myBioSound.F2)])\n",
    "        meanF3 = np.mean(myBioSound.F3[~np.isnan(myBioSound.F3)])\n",
    "        \n",
    "        # These are our two identifier - the emitter (bird) and the call type\n",
    "        Bird = np.array2string(myBioSound.emitter)[2:-1]\n",
    "        callType = np.array2string(myBioSound.type)[2:-1]\n",
    "\n",
    "        # Get values for the fundamental\n",
    "        if myBioSound.fund is not None:\n",
    "            fund = np.float(myBioSound.fund)\n",
    "            cvfund = np.float(myBioSound.cvfund)\n",
    "            maxfund = np.float(myBioSound.maxfund)\n",
    "            minfund = np.float(myBioSound.minfund)\n",
    "        else:\n",
    "            fund = None \n",
    "            cvfund = None   \n",
    "            \n",
    "\n",
    "        vocSelData.append({\"Bird\": Bird, \n",
    "                     \"calltype\": callType, \"fund\": fund, \n",
    "                     \"cvfund\": cvfund, \"maxfund\": maxfund, \"minfund\": minfund,\n",
    "                     \"F1\": meanF1, \"F2\": meanF2, \"F3\":meanF3,\n",
    "                     \"sal\": np.float(myBioSound.meansal), \"rms\": np.float(myBioSound.rms), \n",
    "                     \"maxAmp\": np.float(myBioSound.maxAmp),\n",
    "                     \"meanS\": np.float(myBioSound.meanspect), \"stdS\": np.float(myBioSound.stdspect),\n",
    "                     \"skewS\": np.float(myBioSound.skewspect), \"kurtS\": np.float(myBioSound.kurtosisspect), \n",
    "                     \"entS\": np.float(myBioSound.entropyspect),\n",
    "                     \"q1\": np.float(myBioSound.q1), \"q2\": np.float(myBioSound.q2), \"q3\": np.float(myBioSound.q3),                  \n",
    "                     \"meanT\": np.float(myBioSound.meantime), \"stdT\": np.float(myBioSound.stdtime),\n",
    "                     \"skewT\": np.float(myBioSound.skewtime), \"kurtT\": np.float(myBioSound.kurtosistime),\n",
    "                     \"entT\": np.float(myBioSound.entropytime)\n",
    "})\n",
    "\n",
    "# Make a panda data frame with all the data                    \n",
    "vocSelTable = pd.DataFrame(vocSelData)\n",
    "vocSelTable.to_hdf(tableStore, 'callTable', mode = 'w')   \n"
   ]
  },
  {
   "cell_type": "markdown",
   "metadata": {},
   "source": [
    "## Step 4. Calculate some summary statistics"
   ]
  },
  {
   "cell_type": "code",
   "execution_count": 4,
   "metadata": {},
   "outputs": [
    {
     "data": {
      "text/html": [
       "<div>\n",
       "<style scoped>\n",
       "    .dataframe tbody tr th:only-of-type {\n",
       "        vertical-align: middle;\n",
       "    }\n",
       "\n",
       "    .dataframe tbody tr th {\n",
       "        vertical-align: top;\n",
       "    }\n",
       "\n",
       "    .dataframe thead th {\n",
       "        text-align: right;\n",
       "    }\n",
       "</style>\n",
       "<table border=\"1\" class=\"dataframe\">\n",
       "  <thead>\n",
       "    <tr style=\"text-align: right;\">\n",
       "      <th></th>\n",
       "      <th>Bird</th>\n",
       "      <th>F1</th>\n",
       "      <th>F2</th>\n",
       "      <th>F3</th>\n",
       "      <th>cvfund</th>\n",
       "      <th>entS</th>\n",
       "      <th>entT</th>\n",
       "      <th>fund</th>\n",
       "      <th>kurtS</th>\n",
       "      <th>kurtT</th>\n",
       "      <th>...</th>\n",
       "      <th>minfund</th>\n",
       "      <th>q1</th>\n",
       "      <th>q2</th>\n",
       "      <th>q3</th>\n",
       "      <th>rms</th>\n",
       "      <th>sal</th>\n",
       "      <th>skewS</th>\n",
       "      <th>skewT</th>\n",
       "      <th>stdS</th>\n",
       "      <th>stdT</th>\n",
       "    </tr>\n",
       "  </thead>\n",
       "  <tbody>\n",
       "    <tr>\n",
       "      <th>0</th>\n",
       "      <td>WhiLbl0010</td>\n",
       "      <td>2201.469004</td>\n",
       "      <td>3868.328589</td>\n",
       "      <td>4983.968451</td>\n",
       "      <td>0.110464</td>\n",
       "      <td>0.665441</td>\n",
       "      <td>0.988128</td>\n",
       "      <td>702.582769</td>\n",
       "      <td>7.901419</td>\n",
       "      <td>1.818772</td>\n",
       "      <td>...</td>\n",
       "      <td>508.634067</td>\n",
       "      <td>3340.722656</td>\n",
       "      <td>4025.683594</td>\n",
       "      <td>4505.566406</td>\n",
       "      <td>2550.411059</td>\n",
       "      <td>0.799683</td>\n",
       "      <td>-0.124025</td>\n",
       "      <td>-0.016133</td>\n",
       "      <td>971.879613</td>\n",
       "      <td>0.055457</td>\n",
       "    </tr>\n",
       "    <tr>\n",
       "      <th>1</th>\n",
       "      <td>WhiRas44dd</td>\n",
       "      <td>1872.006166</td>\n",
       "      <td>3647.857654</td>\n",
       "      <td>5027.297829</td>\n",
       "      <td>0.243583</td>\n",
       "      <td>0.739831</td>\n",
       "      <td>0.988654</td>\n",
       "      <td>541.589073</td>\n",
       "      <td>5.194211</td>\n",
       "      <td>2.063819</td>\n",
       "      <td>...</td>\n",
       "      <td>305.398900</td>\n",
       "      <td>3002.589844</td>\n",
       "      <td>3478.042969</td>\n",
       "      <td>3996.562500</td>\n",
       "      <td>1145.011308</td>\n",
       "      <td>0.637786</td>\n",
       "      <td>-0.234902</td>\n",
       "      <td>0.009658</td>\n",
       "      <td>1042.352590</td>\n",
       "      <td>0.062109</td>\n",
       "    </tr>\n",
       "    <tr>\n",
       "      <th>2</th>\n",
       "      <td>YelGre5275</td>\n",
       "      <td>2057.692574</td>\n",
       "      <td>3485.764146</td>\n",
       "      <td>5045.455160</td>\n",
       "      <td>0.127209</td>\n",
       "      <td>0.638180</td>\n",
       "      <td>0.986572</td>\n",
       "      <td>727.067123</td>\n",
       "      <td>8.410611</td>\n",
       "      <td>2.209674</td>\n",
       "      <td>...</td>\n",
       "      <td>572.177084</td>\n",
       "      <td>2833.769531</td>\n",
       "      <td>3200.695312</td>\n",
       "      <td>3679.593750</td>\n",
       "      <td>1070.072594</td>\n",
       "      <td>0.845757</td>\n",
       "      <td>0.565451</td>\n",
       "      <td>-0.197616</td>\n",
       "      <td>1032.363297</td>\n",
       "      <td>0.048549</td>\n",
       "    </tr>\n",
       "    <tr>\n",
       "      <th>3</th>\n",
       "      <td>YelOra2575</td>\n",
       "      <td>1933.984432</td>\n",
       "      <td>3551.273919</td>\n",
       "      <td>5143.831110</td>\n",
       "      <td>0.083123</td>\n",
       "      <td>0.557739</td>\n",
       "      <td>0.980675</td>\n",
       "      <td>658.629167</td>\n",
       "      <td>7.479069</td>\n",
       "      <td>2.059672</td>\n",
       "      <td>...</td>\n",
       "      <td>463.288175</td>\n",
       "      <td>3305.346680</td>\n",
       "      <td>3492.685547</td>\n",
       "      <td>3776.923828</td>\n",
       "      <td>1094.945653</td>\n",
       "      <td>0.854650</td>\n",
       "      <td>-0.303486</td>\n",
       "      <td>0.059237</td>\n",
       "      <td>890.919659</td>\n",
       "      <td>0.052272</td>\n",
       "    </tr>\n",
       "  </tbody>\n",
       "</table>\n",
       "<p>4 rows × 24 columns</p>\n",
       "</div>"
      ],
      "text/plain": [
       "         Bird           F1           F2           F3    cvfund      entS  \\\n",
       "0  WhiLbl0010  2201.469004  3868.328589  4983.968451  0.110464  0.665441   \n",
       "1  WhiRas44dd  1872.006166  3647.857654  5027.297829  0.243583  0.739831   \n",
       "2  YelGre5275  2057.692574  3485.764146  5045.455160  0.127209  0.638180   \n",
       "3  YelOra2575  1933.984432  3551.273919  5143.831110  0.083123  0.557739   \n",
       "\n",
       "       entT        fund     kurtS     kurtT  ...     minfund           q1  \\\n",
       "0  0.988128  702.582769  7.901419  1.818772  ...  508.634067  3340.722656   \n",
       "1  0.988654  541.589073  5.194211  2.063819  ...  305.398900  3002.589844   \n",
       "2  0.986572  727.067123  8.410611  2.209674  ...  572.177084  2833.769531   \n",
       "3  0.980675  658.629167  7.479069  2.059672  ...  463.288175  3305.346680   \n",
       "\n",
       "            q2           q3          rms       sal     skewS     skewT  \\\n",
       "0  4025.683594  4505.566406  2550.411059  0.799683 -0.124025 -0.016133   \n",
       "1  3478.042969  3996.562500  1145.011308  0.637786 -0.234902  0.009658   \n",
       "2  3200.695312  3679.593750  1070.072594  0.845757  0.565451 -0.197616   \n",
       "3  3492.685547  3776.923828  1094.945653  0.854650 -0.303486  0.059237   \n",
       "\n",
       "          stdS      stdT  \n",
       "0   971.879613  0.055457  \n",
       "1  1042.352590  0.062109  \n",
       "2  1032.363297  0.048549  \n",
       "3   890.919659  0.052272  \n",
       "\n",
       "[4 rows x 24 columns]"
      ]
     },
     "execution_count": 4,
     "metadata": {},
     "output_type": "execute_result"
    }
   ],
   "source": [
    "vocSelTableGrouped = vocSelTable.groupby(['Bird'])\n",
    "vocSelTableGroupedAgg = vocSelTableGrouped.aggregate('mean').reset_index()\n",
    "\n",
    "vocSelTableGroupedAgg\n"
   ]
  },
  {
   "cell_type": "markdown",
   "metadata": {},
   "source": [
    "## Step 5. You can perform classical hypothesis testing at this point.  \n",
    "\n",
    "For example, is the fundamental different for the four birds?  That is simple a one-way-anova.  I like to use\n",
    "the statistical modeling approach with R like syntax.  Here 'lm' is the same as ordinary least square or 'ols'\n",
    "\n"
   ]
  },
  {
   "cell_type": "code",
   "execution_count": 5,
   "metadata": {},
   "outputs": [
    {
     "name": "stdout",
     "output_type": "stream",
     "text": [
      "                 sum_sq    df           F        PR(>F)\n",
      "Bird      499186.596103   3.0  172.828672  1.549196e-36\n",
      "Residual   83761.629839  87.0         NaN           NaN\n"
     ]
    }
   ],
   "source": [
    "# One way anova\n",
    "\n",
    "import statsmodels.api as sm\n",
    "from statsmodels.formula.api import ols\n",
    " \n",
    "mod = ols('fund ~ Bird',\n",
    "                data=vocSelTable).fit()\n",
    "                \n",
    "aov_table = sm.stats.anova_lm(mod, typ=2)\n",
    "print(aov_table)"
   ]
  },
  {
   "cell_type": "markdown",
   "metadata": {},
   "source": [
    "The mean fundamental is clearly different for these four birds and you also see this in a boxplot"
   ]
  },
  {
   "cell_type": "code",
   "execution_count": 6,
   "metadata": {},
   "outputs": [
    {
     "data": {
      "text/plain": [
       "<matplotlib.axes._subplots.AxesSubplot at 0x7fc84b34cf98>"
      ]
     },
     "execution_count": 6,
     "metadata": {},
     "output_type": "execute_result"
    },
    {
     "data": {
      "image/png": "[encoded data removed]",
      "text/plain": [
       "<Figure size 432x288 with 1 Axes>"
      ]
     },
     "metadata": {
      "needs_background": "light"
     },
     "output_type": "display_data"
    }
   ],
   "source": [
    "vocSelTable.boxplot('fund', by='Bird')"
   ]
  },
  {
   "cell_type": "code",
   "execution_count": null,
   "metadata": {},
   "outputs": [],
   "source": []
  }
 ],
 "metadata": {
  "kernelspec": {
   "display_name": "Python 3",
   "language": "python",
   "name": "python3"
  },
  "language_info": {
   "codemirror_mode": {
    "name": "ipython",
    "version": 3
   },
   "file_extension": ".py",
   "mimetype": "text/x-python",
   "name": "python",
   "nbconvert_exporter": "python",
   "pygments_lexer": "ipython3",
   "version": "3.7.3"
  }
 },
 "nbformat": 4,
 "nbformat_minor": 2
}
