{
 "cells": [
  {
   "cell_type": "markdown",
   "metadata": {},
   "source": [
    "# BioSound Tutorial 3.  Reading a series of BioSound h5 files and calculating some summary statistics\n",
    "### This notebook illustrates how to read BioSound objects that have been saved in h5 files and perform grouped averages and simple statistics"
   ]
  },
  {
   "cell_type": "markdown",
   "metadata": {},
   "source": [
    "## Step 1. Loading all the dependencies.  \n",
    "### numpy, matplotlib and soundsig should have been installed when you installed soundsig.  You might have to also install pandas."
   ]
  },
  {
   "cell_type": "code",
   "execution_count": 1,
   "metadata": {},
   "outputs": [],
   "source": [
    "# Import math, pandas and soundsig libraries\n",
    "import numpy as np\n",
    "import pandas as pd\n",
    "from soundsig.sound import BioSound \n",
    "\n",
    "import os\n"
   ]
  },
  {
   "cell_type": "markdown",
   "metadata": {},
   "source": [
    "## Step 2. Specifying the location of the sound files in BioSound format (h5 files).\n",
    "\n",
    "YOU WILL WANT TO CHANGE TO FOLLOWING CODE TO POINT TO THE RIGHT PLACE\n",
    "You will also want to change the location for storing the pandas table."
   ]
  },
  {
   "cell_type": "code",
   "execution_count": 2,
   "metadata": {},
   "outputs": [],
   "source": [
    "# Go to the folder that has the h5 files corresponding to the BioSound objects.\n",
    "os.chdir('/Users/frederictheunissen/Code/BioSoundTutorial/BirdCalls/h5files')\n",
    "\n",
    "tableStore = '/Users/frederictheunissen/Code/BioSoundTutorial/vocSelTable.h5'"
   ]
  },
  {
   "cell_type": "markdown",
   "metadata": {},
   "source": [
    "## Step 3. Looping through a set of bioSoundObjects to extract some features and storing them into a Pandas Data Frame."
   ]
  },
  {
   "cell_type": "code",
   "execution_count": 3,
   "metadata": {},
   "outputs": [
    {
     "name": "stdout",
     "output_type": "stream",
     "text": [
      "WhiRas44dd_110620-DC-03.h5\n",
      "YelGre5275_110615-DC-10.h5\n",
      "YelOra2575_110630-DC-48.h5\n",
      "WhiRas44dd_110620-DC-13.h5\n",
      "YelGre5275_110728-DC-20.h5\n",
      "WhiLbl0010_110421-DC-06.h5\n",
      "WhiRas44dd_110620-DC-07.h5\n",
      "YelOra2575_110630-DC-39.h5\n",
      "YelGre5275_110728-DC-24.h5\n",
      "WhiRas44dd_110620-DC-17.h5\n",
      "WhiLbl0010_110425-DC-14.h5\n",
      "WhiRas44dd_110620-DC-23.h5\n",
      "YelGre5275_110615-DC-04.h5\n",
      "WhiLbl0010_110421-DC-07.h5\n",
      "WhiRas44dd_110620-DC-06.h5\n",
      "YelOra2575_110630-DC-38.h5\n",
      "YelOra2575_110630-DC-28.h5\n",
      "WhiRas44dd_110620-DC-16.h5\n",
      "YelGre5275_110728-DC-25.h5\n",
      "WhiLbl0010_110411-DC-01.h5\n",
      "WhiRas44dd_110620-DC-22.h5\n",
      "YelGre5275_110615-DC-05.h5\n",
      "YelGre5275_110615-DC-11.h5\n",
      "YelOra2575_110630-DC-49.h5\n",
      "YelGre5275_110615-DC-01.h5\n",
      "YelGre5275_110728-DC-21.h5\n",
      "WhiRas44dd_110620-DC-12.h5\n",
      "YelGre5275_110616-DC-17.h5\n",
      "YelOra2575_110630-DC-37.h5\n",
      "WhiLbl0010_110502-DC-24.h5\n",
      "WhiRas44dd_110620-DC-09.h5\n",
      "WhiLbl0010_110421-DC-08.h5\n",
      "WhiRas44dd_110620-DC-19.h5\n",
      "YelOra2575_110630-DC-42.h5\n",
      "WhiLbl0010_110502-DC-20.h5\n",
      "YelGre5275_110616-DC-13.h5\n",
      "YelOra2575_110630-DC-33.h5\n",
      "WhiLbl0010_110428-DC-15.h5\n",
      "YelOra2575_110630-DC-46.h5\n",
      "WhiLbl0010_110502-DC-21.h5\n",
      "YelOra2575_110630-DC-32.h5\n",
      "WhiLbl0010_110418-DC-02.h5\n",
      "YelOra2575_110630-DC-47.h5\n",
      "YelGre5275_110616-DC-16.h5\n",
      "YelOra2575_110630-DC-36.h5\n",
      "WhiLbl0010_110502-DC-25.h5\n",
      "WhiRas44dd_110620-DC-08.h5\n",
      "WhiLbl0010_110421-DC-09.h5\n",
      "WhiRas44dd_110620-DC-18.h5\n",
      "YelOra2575_110630-DC-43.h5\n",
      "WhiRas44dd_110617-DC-01.h5\n",
      "WhiLbl0010_110502-DC-22.h5\n",
      "WhiLbl0010_110429-DC-17.h5\n",
      "WhiLbl0010_110422-DC-13.h5\n",
      "YelOra2575_110630-DC-44.h5\n",
      "YelOra2575_110630-DC-35.h5\n",
      "YelGre5275_110616-DC-15.h5\n",
      "YelOra2575_110630-DC-50.h5\n",
      "YelGre5275_110615-DC-08.h5\n",
      "YelOra2575_110630-DC-40.h5\n",
      "WhiRas44dd_110617-DC-02.h5\n",
      "YelOra2575_110630-DC-34.h5\n",
      "YelGre5275_110616-DC-14.h5\n",
      "YelGre5275_110701-DC-18.h5\n",
      "YelOra2575_110630-DC-41.h5\n",
      "WhiLbl0010_110502-DC-23.h5\n",
      "WhiLbl0010_110429-DC-16.h5\n",
      "YelGre5275_110728-DC-19.h5\n",
      "YelOra2575_110630-DC-45.h5\n",
      "WhiLbl0010_110421-DC-04.h5\n",
      "WhiRas44dd_110620-DC-05.h5\n",
      "WhiRas44dd_110620-DC-15.h5\n",
      "YelGre5275_110728-DC-26.h5\n",
      "YelGre5275_110615-DC-06.h5\n",
      "WhiRas44dd_110620-DC-21.h5\n",
      "YelGre5275_110615-DC-12.h5\n",
      "WhiLbl0010_110502-DC-18.h5\n",
      "YelGre5275_110615-DC-02.h5\n",
      "WhiRas44dd_110620-DC-25.h5\n",
      "YelGre5275_110728-DC-22.h5\n",
      "WhiRas44dd_110620-DC-11.h5\n",
      "WhiLbl0010_110502-DC-19.h5\n",
      "WhiLbl0010_110421-DC-11.h5\n",
      "YelGre5275_110615-DC-03.h5\n",
      "WhiRas44dd_110620-DC-24.h5\n",
      "WhiRas44dd_110620-DC-10.h5\n",
      "YelGre5275_110728-DC-23.h5\n",
      "WhiRas44dd_110620-DC-04.h5\n",
      "WhiRas44dd_110620-DC-14.h5\n",
      "YelGre5275_110615-DC-07.h5\n",
      "WhiRas44dd_110620-DC-20.h5\n"
     ]
    }
   ],
   "source": [
    "# vocSelData is going to be a list of dictionary containing the values that we are going to extract from each BioSound object.\n",
    "vocSelData = []\n",
    "\n",
    "# Looping through all the files\n",
    "for fname in os.listdir('.'):\n",
    "    if fname.endswith('.h5'):\n",
    "        \n",
    "        print(fname)\n",
    "        # Allocate object and read data\n",
    "        myBioSound = BioSound()\n",
    "        myBioSound.readh5(fname)\n",
    "        \n",
    "        # Take the time average formants \n",
    "        meanF1 = np.mean(myBioSound.F1[~np.isnan(myBioSound.F1)])\n",
    "        meanF2 = np.mean(myBioSound.F2[~np.isnan(myBioSound.F2)])\n",
    "        meanF3 = np.mean(myBioSound.F3[~np.isnan(myBioSound.F3)])\n",
    "        \n",
    "        # These are our two identifier - the emitter (bird) and the call type\n",
    "        Bird = np.array2string(myBioSound.emitter)[2:-1]\n",
    "        callType = np.array2string(myBioSound.type)[2:-1]\n",
    "\n",
    "        # Get values for the fundamental\n",
    "        if myBioSound.fund is not None:\n",
    "            fund = float(myBioSound.fund)\n",
    "            cvfund = float(myBioSound.cvfund)\n",
    "            maxfund = float(myBioSound.maxfund)\n",
    "            minfund = float(myBioSound.minfund)\n",
    "        else:\n",
    "            fund = float('NaN')\n",
    "            cvfund = float('NaN')\n",
    "            maxfund = float('NaN')\n",
    "            minfund = float('NaN')\n",
    "            \n",
    "            \n",
    "            \n",
    "\n",
    "        vocSelData.append({\"Bird\": Bird, \n",
    "                     \"calltype\": callType, \"fund\": fund, \n",
    "                     \"cvfund\": cvfund, \"maxfund\": maxfund, \"minfund\": minfund,\n",
    "                     \"F1\": meanF1, \"F2\": meanF2, \"F3\":meanF3,\n",
    "                     \"sal\": float(myBioSound.meansal), \"rms\": float(myBioSound.rms), \n",
    "                     \"maxAmp\": float(myBioSound.maxAmp),\n",
    "                     \"meanS\": float(myBioSound.meanspect), \"stdS\": float(myBioSound.stdspect),\n",
    "                     \"skewS\": float(myBioSound.skewspect), \"kurtS\": float(myBioSound.kurtosisspect), \n",
    "                     \"entS\": float(myBioSound.entropyspect),\n",
    "                     \"q1\": float(myBioSound.q1), \"q2\": float(myBioSound.q2), \"q3\": float(myBioSound.q3),                  \n",
    "                     \"meanT\": float(myBioSound.meantime), \"stdT\": float(myBioSound.stdtime),\n",
    "                     \"skewT\": float(myBioSound.skewtime), \"kurtT\": float(myBioSound.kurtosistime),\n",
    "                     \"entT\": float(myBioSound.entropytime)\n",
    "})\n",
    "\n",
    "# Make a panda data frame with all the data                    \n",
    "vocSelTable = pd.DataFrame(vocSelData)\n",
    "vocSelTable.to_hdf(tableStore, 'callTable', mode = 'w')   \n"
   ]
  },
  {
   "cell_type": "markdown",
   "metadata": {},
   "source": [
    "## Step 4. Calculate some summary statistics"
   ]
  },
  {
   "cell_type": "code",
   "execution_count": 4,
   "metadata": {},
   "outputs": [
    {
     "data": {
      "text/html": [
       "<div>\n",
       "<style scoped>\n",
       "    .dataframe tbody tr th:only-of-type {\n",
       "        vertical-align: middle;\n",
       "    }\n",
       "\n",
       "    .dataframe tbody tr th {\n",
       "        vertical-align: top;\n",
       "    }\n",
       "\n",
       "    .dataframe thead th {\n",
       "        text-align: right;\n",
       "    }\n",
       "</style>\n",
       "<table border=\"1\" class=\"dataframe\">\n",
       "  <thead>\n",
       "    <tr style=\"text-align: right;\">\n",
       "      <th></th>\n",
       "      <th>Bird</th>\n",
       "      <th>fund</th>\n",
       "      <th>cvfund</th>\n",
       "      <th>maxfund</th>\n",
       "      <th>minfund</th>\n",
       "      <th>F1</th>\n",
       "      <th>F2</th>\n",
       "      <th>F3</th>\n",
       "      <th>sal</th>\n",
       "      <th>rms</th>\n",
       "      <th>...</th>\n",
       "      <th>kurtS</th>\n",
       "      <th>entS</th>\n",
       "      <th>q1</th>\n",
       "      <th>q2</th>\n",
       "      <th>q3</th>\n",
       "      <th>meanT</th>\n",
       "      <th>stdT</th>\n",
       "      <th>skewT</th>\n",
       "      <th>kurtT</th>\n",
       "      <th>entT</th>\n",
       "    </tr>\n",
       "  </thead>\n",
       "  <tbody>\n",
       "    <tr>\n",
       "      <th>0</th>\n",
       "      <td>WhiLbl0010</td>\n",
       "      <td>703.697903</td>\n",
       "      <td>0.121974</td>\n",
       "      <td>928.937243</td>\n",
       "      <td>471.907875</td>\n",
       "      <td>2580.139090</td>\n",
       "      <td>3902.673588</td>\n",
       "      <td>5036.066070</td>\n",
       "      <td>0.796746</td>\n",
       "      <td>3827.774084</td>\n",
       "      <td>...</td>\n",
       "      <td>9.123082</td>\n",
       "      <td>0.669783</td>\n",
       "      <td>3379.687500</td>\n",
       "      <td>3988.769531</td>\n",
       "      <td>4511.718750</td>\n",
       "      <td>0.111202</td>\n",
       "      <td>0.055454</td>\n",
       "      <td>-0.009022</td>\n",
       "      <td>1.831126</td>\n",
       "      <td>0.988922</td>\n",
       "    </tr>\n",
       "    <tr>\n",
       "      <th>1</th>\n",
       "      <td>WhiRas44dd</td>\n",
       "      <td>522.670125</td>\n",
       "      <td>0.250433</td>\n",
       "      <td>779.448411</td>\n",
       "      <td>305.404286</td>\n",
       "      <td>1895.405253</td>\n",
       "      <td>3755.295199</td>\n",
       "      <td>5067.497430</td>\n",
       "      <td>0.636869</td>\n",
       "      <td>1562.756153</td>\n",
       "      <td>...</td>\n",
       "      <td>4.913039</td>\n",
       "      <td>0.751195</td>\n",
       "      <td>3064.605469</td>\n",
       "      <td>3602.074219</td>\n",
       "      <td>4227.398438</td>\n",
       "      <td>0.127016</td>\n",
       "      <td>0.062014</td>\n",
       "      <td>-0.015648</td>\n",
       "      <td>2.057778</td>\n",
       "      <td>0.988704</td>\n",
       "    </tr>\n",
       "    <tr>\n",
       "      <th>2</th>\n",
       "      <td>YelGre5275</td>\n",
       "      <td>727.300084</td>\n",
       "      <td>0.130442</td>\n",
       "      <td>961.841635</td>\n",
       "      <td>572.789612</td>\n",
       "      <td>2074.846114</td>\n",
       "      <td>3616.343583</td>\n",
       "      <td>5092.943791</td>\n",
       "      <td>0.838358</td>\n",
       "      <td>1234.810546</td>\n",
       "      <td>...</td>\n",
       "      <td>7.464726</td>\n",
       "      <td>0.653951</td>\n",
       "      <td>2916.457031</td>\n",
       "      <td>3424.640625</td>\n",
       "      <td>3984.503906</td>\n",
       "      <td>0.104623</td>\n",
       "      <td>0.048260</td>\n",
       "      <td>-0.192828</td>\n",
       "      <td>2.243027</td>\n",
       "      <td>0.985460</td>\n",
       "    </tr>\n",
       "    <tr>\n",
       "      <th>3</th>\n",
       "      <td>YelOra2575</td>\n",
       "      <td>670.981774</td>\n",
       "      <td>0.092179</td>\n",
       "      <td>869.936151</td>\n",
       "      <td>502.634315</td>\n",
       "      <td>2099.741228</td>\n",
       "      <td>3643.695676</td>\n",
       "      <td>5154.407734</td>\n",
       "      <td>0.857714</td>\n",
       "      <td>1412.994508</td>\n",
       "      <td>...</td>\n",
       "      <td>6.631035</td>\n",
       "      <td>0.564774</td>\n",
       "      <td>3423.779297</td>\n",
       "      <td>3563.745117</td>\n",
       "      <td>4136.528320</td>\n",
       "      <td>0.114140</td>\n",
       "      <td>0.051947</td>\n",
       "      <td>0.013622</td>\n",
       "      <td>2.067124</td>\n",
       "      <td>0.979853</td>\n",
       "    </tr>\n",
       "  </tbody>\n",
       "</table>\n",
       "<p>4 rows × 24 columns</p>\n",
       "</div>"
      ],
      "text/plain": [
       "         Bird        fund    cvfund     maxfund     minfund           F1  \\\n",
       "0  WhiLbl0010  703.697903  0.121974  928.937243  471.907875  2580.139090   \n",
       "1  WhiRas44dd  522.670125  0.250433  779.448411  305.404286  1895.405253   \n",
       "2  YelGre5275  727.300084  0.130442  961.841635  572.789612  2074.846114   \n",
       "3  YelOra2575  670.981774  0.092179  869.936151  502.634315  2099.741228   \n",
       "\n",
       "            F2           F3       sal          rms  ...     kurtS      entS  \\\n",
       "0  3902.673588  5036.066070  0.796746  3827.774084  ...  9.123082  0.669783   \n",
       "1  3755.295199  5067.497430  0.636869  1562.756153  ...  4.913039  0.751195   \n",
       "2  3616.343583  5092.943791  0.838358  1234.810546  ...  7.464726  0.653951   \n",
       "3  3643.695676  5154.407734  0.857714  1412.994508  ...  6.631035  0.564774   \n",
       "\n",
       "            q1           q2           q3     meanT      stdT     skewT  \\\n",
       "0  3379.687500  3988.769531  4511.718750  0.111202  0.055454 -0.009022   \n",
       "1  3064.605469  3602.074219  4227.398438  0.127016  0.062014 -0.015648   \n",
       "2  2916.457031  3424.640625  3984.503906  0.104623  0.048260 -0.192828   \n",
       "3  3423.779297  3563.745117  4136.528320  0.114140  0.051947  0.013622   \n",
       "\n",
       "      kurtT      entT  \n",
       "0  1.831126  0.988922  \n",
       "1  2.057778  0.988704  \n",
       "2  2.243027  0.985460  \n",
       "3  2.067124  0.979853  \n",
       "\n",
       "[4 rows x 24 columns]"
      ]
     },
     "execution_count": 4,
     "metadata": {},
     "output_type": "execute_result"
    }
   ],
   "source": [
    "vocSelTableGrouped = vocSelTable.groupby(['Bird'])\n",
    "vocSelTableGroupedAgg = vocSelTableGrouped.aggregate('mean', numeric_only=True).reset_index()\n",
    "\n",
    "vocSelTableGroupedAgg\n"
   ]
  },
  {
   "cell_type": "markdown",
   "metadata": {},
   "source": [
    "## Step 5. You can perform classical hypothesis testing at this point.  \n",
    "\n",
    "For example, is the fundamental different for the four birds?  That is simple a one-way-anova.  I like to use\n",
    "the statistical modeling approach with R like syntax.  Here 'lm' is the same as ordinary least square or 'ols'\n",
    "\n"
   ]
  },
  {
   "cell_type": "code",
   "execution_count": 5,
   "metadata": {},
   "outputs": [
    {
     "name": "stdout",
     "output_type": "stream",
     "text": [
      "                 sum_sq    df           F        PR(>F)\n",
      "Bird      623096.084152   3.0  184.027536  1.485127e-37\n",
      "Residual   98190.666848  87.0         NaN           NaN\n"
     ]
    }
   ],
   "source": [
    "# One way anova\n",
    "\n",
    "import statsmodels.api as sm\n",
    "from statsmodels.formula.api import ols\n",
    " \n",
    "mod = ols('fund ~ Bird',\n",
    "                data=vocSelTable).fit()\n",
    "                \n",
    "aov_table = sm.stats.anova_lm(mod, typ=2)\n",
    "print(aov_table)"
   ]
  },
  {
   "cell_type": "markdown",
   "metadata": {},
   "source": [
    "The mean fundamental is clearly different for these four birds and you also see this in a boxplot"
   ]
  },
  {
   "cell_type": "code",
   "execution_count": 6,
   "metadata": {
    "scrolled": true
   },
   "outputs": [
    {
     "data": {
      "text/plain": [
       "<Axes: title={'center': 'fund'}, xlabel='Bird'>"
      ]
     },
     "execution_count": 6,
     "metadata": {},
     "output_type": "execute_result"
    },
    {
     "data": {
      "image/png": "[encoded data removed]",
      "text/plain": [
       "<Figure size 640x480 with 1 Axes>"
      ]
     },
     "metadata": {},
     "output_type": "display_data"
    }
   ],
   "source": [
    "vocSelTable.boxplot('fund', by='Bird')"
   ]
  },
  {
   "cell_type": "code",
   "execution_count": null,
   "metadata": {},
   "outputs": [],
   "source": []
  }
 ],
 "metadata": {
  "kernelspec": {
   "display_name": "Python 3 (ipykernel)",
   "language": "python",
   "name": "python3"
  },
  "language_info": {
   "codemirror_mode": {
    "name": "ipython",
    "version": 3
   },
   "file_extension": ".py",
   "mimetype": "text/x-python",
   "name": "python",
   "nbconvert_exporter": "python",
   "pygments_lexer": "ipython3",
   "version": "3.9.12"
  }
 },
 "nbformat": 4,
 "nbformat_minor": 2
}
