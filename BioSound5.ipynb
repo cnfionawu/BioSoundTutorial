{
 "cells": [
  {
   "cell_type": "markdown",
   "metadata": {},
   "source": [
    "# BioSound Tutorial 5.  Using the Spectrogram as features for classifiers.\n",
    "### In tutorial 4, you learned how to use predefined acoustical features such as pitch saliency to classify sounds.  Here you will use a spectrogram.  The plotDiscriminate routine performs a PCA on these large feature spaces to prevent over-fitting \n",
    "\n",
    "Some things to note:  The spectrogram approach will only work if all BioSound files have the same size spectrogam.  This usually means the same sound length and the same time-frequency scale. Here spectrograms are cut to the smallest soud. It also makes sense to have a logical alignment since the approach will be sensitive to shifts. This code can easily be modified to also use the modulation power spectrum. \n",
    "The modulation spectrum allows for variable size sounds and is insensitive to shifts but the analysis window for the MPS must be identical and it must be based on spectrograms that were obtained with the same time-frequency scale."
   ]
  },
  {
   "cell_type": "markdown",
   "metadata": {},
   "source": [
    "## Step 1. Loading all the dependencies.  \n",
    "### numpy, matplotlib and soundsig should have been installed when you installed soundsig.  You might have to also install pandas, pickle and sklearn."
   ]
  },
  {
   "cell_type": "code",
   "execution_count": 1,
   "metadata": {},
   "outputs": [],
   "source": [
    "# Import math, pandas and soundsig libraries\n",
    "import numpy as np\n",
    "import pandas as pd\n",
    "from soundsig.sound import BioSound \n",
    "from soundsig.discriminate import discriminatePlot\n",
    "import pickle\n",
    "from sklearn.decomposition import PCA\n",
    "from scipy.stats.mstats import zscore\n",
    "\n",
    "import os\n"
   ]
  },
  {
   "cell_type": "markdown",
   "metadata": {},
   "source": [
    "## Step 2. Specifying the location of the sound files in BioSound format (h5 files).\n",
    "\n",
    "YOU WILL WANT TO CHANGE TO FOLLOWING CODE TO POINT TO THE RIGHT PLACE  \n",
    "You will also want to change the location for storing the pandas table.  \n",
    "Note that you might want to also change the name of the h5 file that stores all of the spectrograms."
   ]
  },
  {
   "cell_type": "code",
   "execution_count": 2,
   "metadata": {},
   "outputs": [],
   "source": [
    "# Go to the folder that has the h5 files corresponding to the BioSound objects.\n",
    "os.chdir('/Users/frederictheunissen/Documents/Code/BioSoundTutorial/BirdCalls/h5files')\n",
    "\n",
    "# Some output files\n",
    "tableStore = '/Users/frederictheunissen/Documents/Code/BioSoundTutorial/vocSelTableSpectro.h5'\n",
    "pcInfo = '/Users/frederictheunissen/Documents/Code/BioSoundTutorial/vocSpectroPC.pkl'\n",
    "\n",
    "# This is where you want to store eps of figures that will be generated.\n",
    "figdir = '/Users/frederictheunissen/Documents/Code/BioSoundTutorial/'"
   ]
  },
  {
   "cell_type": "markdown",
   "metadata": {},
   "source": [
    "## Step 3. Looping through a set of bioSoundObjects to extract the spectrogram and storing them into a Pandas Data Frame."
   ]
  },
  {
   "cell_type": "markdown",
   "metadata": {},
   "source": [
    "#### Part 1. Extract Spectrograms; normalize if desired; and compress by PCA\n",
    "\n",
    "Here we are doing the PC to store the data efficiently.  Unless you have a ton of data the classifier will only use a small number of these anyway.  The first PCA is to reduce from the ~25000 (for these data) space of spectrogram to a space of 50.  As you will see this is able to capture almost 90% of the variance."
   ]
  },
  {
   "cell_type": "code",
   "execution_count": 3,
   "metadata": {},
   "outputs": [
    {
     "name": "stdout",
     "output_type": "stream",
     "text": [
      "Allocated space for all spectrograms\n"
     ]
    }
   ],
   "source": [
    "# Set true if you want to normalize all spectrograms.\n",
    "normFlg = True\n",
    "\n",
    "#nPCs is the number of PCs that will be used in the first dimensionality reduction\n",
    "nPCs = 50\n",
    "\n",
    "# Read first one to allocate space for np array\n",
    "count = 0\n",
    "shapeSpectro = []\n",
    "birdName = []\n",
    "callType = []\n",
    "for fname in os.listdir('.'):\n",
    "    if fname.endswith('.h5'):\n",
    "        myBioSound = BioSound()\n",
    "        myBioSound.readh5(fname)\n",
    "        \n",
    "        shapeSpectro.append(myBioSound.spectro.shape)\n",
    "        birdName.append(np.array2string(myBioSound.emitter)[2:-1])\n",
    "        callType.append(np.array2string(myBioSound.type)[2:-1])\n",
    "        \n",
    "        count += 1\n",
    "   \n",
    "shapeSpectro.sort()\n",
    "shapeDesired = shapeSpectro[0]\n",
    "\n",
    "X = np.zeros((count, shapeDesired[0]*shapeDesired[1]))\n",
    "print('Allocated space for all spectrograms') \n"
   ]
  },
  {
   "cell_type": "code",
   "execution_count": 4,
   "metadata": {},
   "outputs": [
    {
     "name": "stdout",
     "output_type": "stream",
     "text": [
      "Read 91 files and spectrograms\n",
      "Performing PCA\n",
      "PCA Done: Wrote PC's to pickle file <_io.BufferedWriter name='/Users/frederictheunissen/Documents/Code/BioSoundTutorial/vocSpectroPC.pkl'>\n",
      "Variance explained is 88.92%\n"
     ]
    }
   ],
   "source": [
    "# Loop again to extract spectrogram, store the in X and calculate PC \n",
    "\n",
    "# Looping through all the files\n",
    "count = 0\n",
    "for fname in os.listdir('.'):\n",
    "    if fname.endswith('.h5'):\n",
    "        \n",
    "        # Allocate object and read data\n",
    "        myBioSound = BioSound()\n",
    "        myBioSound.readh5(fname)\n",
    "        \n",
    "        # Massage spectrogram as in matlab code (DFA_Calls_Julie)\n",
    "        if normFlg:  # Normalize by peak\n",
    "            myBioSound.spectro -= myBioSound.spectro.max()\n",
    "\n",
    "        # Set a 100 dB range threshold\n",
    "        maxAmp = myBioSound.spectro.max();\n",
    "        minAmp = maxAmp - 100;\n",
    "        myBioSound.spectro[myBioSound.spectro < minAmp] = minAmp;\n",
    "\n",
    "        X[count,:] = np.ravel(myBioSound.spectro[0:shapeDesired[0], 0:shapeDesired[1]])\n",
    "        \n",
    "        count +=1\n",
    "            \n",
    "print('Read %d files and spectrograms' % count)\n",
    "print('Performing PCA')\n",
    "\n",
    "pca = PCA(n_components=nPCs)\n",
    "Xr = pca.fit_transform(X)  \n",
    " \n",
    "# Write PCA information in pkl                         \n",
    "pcInfoFile = open(pcInfo, 'wb')\n",
    "\n",
    "pickle.dump(pca.components_, pcInfoFile)\n",
    "\n",
    "print('PCA Done: Wrote PC\\'s to pickle file %s' % pcInfoFile)\n",
    "print ('Variance explained is %.2f%%' % (sum(pca.explained_variance_ratio_)*100.0))"
   ]
  },
  {
   "cell_type": "code",
   "execution_count": 5,
   "metadata": {},
   "outputs": [
    {
     "name": "stdout",
     "output_type": "stream",
     "text": [
      "Reprocessed 91 files to make Panda Data Frame\n",
      "Done: Wrote pandas data frame to h5 file /Users/frederictheunissen/Documents/Code/BioSoundTutorial/vocSelTableSpectro.h5\n"
     ]
    },
    {
     "name": "stderr",
     "output_type": "stream",
     "text": [
      "/Users/frederictheunissen/anaconda3/lib/python3.7/site-packages/pandas/core/generic.py:2377: PerformanceWarning: \n",
      "your performance may suffer as PyTables will pickle object types that it cannot\n",
      "map directly to c-types [inferred_type->mixed,key->block0_values] [items->['Bird', 'Calltype', 'Spectro']]\n",
      "\n",
      "  return pytables.to_hdf(path_or_buf, key, self, **kwargs)\n"
     ]
    }
   ],
   "source": [
    "# Make the pandas data frame with all the spectrograms\n",
    "vocSelData = []\n",
    "for ic in range(count):         \n",
    "    vocSelData.append({\"Bird\": birdName[ic], \n",
    "                       \"Calltype\": callType[ic], \n",
    "                       \"Spectro\": Xr[ic]}) \n",
    "     \n",
    "\n",
    "# Make a panda data frame with all the data  \n",
    "print('Reprocessed %d files to make Panda Data Frame'%count)                    \n",
    "vocSelTable = pd.DataFrame(vocSelData)\n",
    "vocSelTable.to_hdf(tableStore, 'callTable', mode = 'w')\n",
    "print('Done: Wrote pandas data frame to h5 file %s' % tableStore)"
   ]
  },
  {
   "cell_type": "markdown",
   "metadata": {},
   "source": [
    "## Step 5.  Run the Classifiers.  \n",
    "### You can also run only this code after reading vocSelTable"
   ]
  },
  {
   "cell_type": "code",
   "execution_count": 6,
   "metadata": {},
   "outputs": [],
   "source": [
    "# You can start here (after loading dependencies) or skip if you already have vocSelTable\n",
    "\n",
    "#Read the pandas table\n",
    "vocSelTable = pd.read_hdf(tableStore)"
   ]
  },
  {
   "cell_type": "code",
   "execution_count": 7,
   "metadata": {},
   "outputs": [],
   "source": [
    "# This code is very similar to tutorial 4.\n",
    "\n",
    "#  Here we generate colors for each bird for plotting purposes:\n",
    "\n",
    "# Color code for bird ID\n",
    "birdColorStart = [(0/255.0, 230/255.0, 255/255.0),  \n",
    "             (255/255.0, 0/255.0, 0/255.0), \n",
    "             (255/255.0, 180/255.0, 255/255.0),\n",
    "             (140/255.0, 100/255.0, 185/255.0) ]\n",
    "\n",
    "\n",
    "\n",
    "birdNames = np.unique(vocSelTable['Bird'])\n",
    "\n",
    "# If you have a small number of birds you might want to choose specific colors\n",
    "birdColor = {}\n",
    "ib = 0\n",
    "for birdId in birdNames:\n",
    "    if ib < 4:\n",
    "       birdColor[birdId] = birdColorStart[ib] \n",
    "    else:\n",
    "       birdColor[birdId] = np.random.rand(3)\n",
    "    ib += 1\n",
    "    \n",
    "cValBirdAll = []\n",
    "for birdId in vocSelTable['Bird']:\n",
    "    cValBirdAll.append(birdColor[birdId])\n",
    "    \n",
    "cValBirdAll = np.asarray(cValBirdAll)"
   ]
  },
  {
   "cell_type": "code",
   "execution_count": 8,
   "metadata": {},
   "outputs": [
    {
     "name": "stdout",
     "output_type": "stream",
     "text": [
      "Warning: Insufficient data for 50 parameters. PCA projection to 4 dimensions.\n",
      "Variance explained is 51.53%\n",
      "LDA Weights:\n",
      "DFA 0: C3 -0.005; C1 -0.003; C2 -0.003; C0 0.000; C4 0.000; \n",
      "DFA 1: C0 -0.003; C3 -0.002; C1 0.001; C2 0.000; C4 0.000; \n",
      "DFA 2: C3 0.002; C1 -0.002; C2 0.001; C0 -0.001; C4 -0.000; \n"
     ]
    },
    {
     "name": "stderr",
     "output_type": "stream",
     "text": [
      "/Users/frederictheunissen/anaconda3/lib/python3.7/site-packages/sklearn/ensemble/forest.py:245: FutureWarning: The default value of n_estimators will change from 10 in version 0.20 to 100 in 0.22.\n",
      "  \"10 in version 0.20 to 100 in 0.22.\", FutureWarning)\n"
     ]
    },
    {
     "data": {
      "image/png": "[encoded data removed]",
      "text/plain": [
       "<Figure size 720x288 with 3 Axes>"
      ]
     },
     "metadata": {},
     "output_type": "display_data"
    },
    {
     "name": "stdout",
     "output_type": "stream",
     "text": [
      "Number of classes 4. Chance level 25.00 %\n",
      "Caller Spectro LDA: 95.60 % (87/91 p=0.0000)\n",
      "Caller Spectro QDA: 96.70 % (88/91 p=0.0000)\n",
      "Caller Spectro RF: 91.21 % (83/91 p=0.0000)\n"
     ]
    },
    {
     "data": {
      "text/plain": [
       "<Figure size 432x288 with 0 Axes>"
      ]
     },
     "metadata": {},
     "output_type": "display_data"
    }
   ],
   "source": [
    "# This code is very similar to tutorial 4.\n",
    "\n",
    "#  Now we perform the supervised cross-validated and regularized classification:\n",
    "\n",
    "# y is the grouping variable\n",
    "y = np.array(vocSelTable['Bird'])\n",
    "\n",
    "# X is the vector of features that will be used \n",
    "X = np.squeeze(np.array([vocSelTable.loc[:,'Spectro']], dtype=float))\n",
    "\n",
    "# As always it is wise to exclude entries with missing data (should not happen here)\n",
    "nonanInd = (np.sum(np.isnan(X), axis = 1) == 0)\n",
    "\n",
    "\n",
    "# The classifier\n",
    "ldaYes, qdaYes, rfYes, cvCount, ldaP, qdaP, rfP, nClasses, weights = discriminatePlot(X[nonanInd], y[nonanInd], \n",
    "                                                                                      cValBirdAll[nonanInd], \n",
    "                                                                                      titleStr='Caller Spectro', \n",
    "                                                                                      figdir = figdir,\n",
    "                                                                                      plotFig = True)\n",
    "\n",
    "# Storing the results in a Pandas Data frame (usefull for compilation and further processing)\n",
    "d = {'Type': np.array(['CallerAdult']),\n",
    "     'Features': np.array(['Spectrogram']), \n",
    "     'LDA Correct' : np.array([ldaYes]), \n",
    "     'QDA Correct': np.array([qdaYes]),\n",
    "     'RF Correct': np.array([rfYes]),\n",
    "     'Tested' : np.array([cvCount]),\n",
    "     'nClasses' : np.array([nClasses]),\n",
    "     'LDA Pval' : np.array([ldaP]),\n",
    "     'QDA Pval': np.array([qdaP]),\n",
    "     'RF Pval': np.array([rfP])}\n",
    "     \n",
    "resultsDataFrame = pd.DataFrame(data = d)\n",
    "\n"
   ]
  },
  {
   "cell_type": "code",
   "execution_count": 9,
   "metadata": {},
   "outputs": [
    {
     "data": {
      "text/html": [
       "<div>\n",
       "<style scoped>\n",
       "    .dataframe tbody tr th:only-of-type {\n",
       "        vertical-align: middle;\n",
       "    }\n",
       "\n",
       "    .dataframe tbody tr th {\n",
       "        vertical-align: top;\n",
       "    }\n",
       "\n",
       "    .dataframe thead th {\n",
       "        text-align: right;\n",
       "    }\n",
       "</style>\n",
       "<table border=\"1\" class=\"dataframe\">\n",
       "  <thead>\n",
       "    <tr style=\"text-align: right;\">\n",
       "      <th></th>\n",
       "      <th>Type</th>\n",
       "      <th>Features</th>\n",
       "      <th>LDA Correct</th>\n",
       "      <th>QDA Correct</th>\n",
       "      <th>RF Correct</th>\n",
       "      <th>Tested</th>\n",
       "      <th>nClasses</th>\n",
       "      <th>LDA Pval</th>\n",
       "      <th>QDA Pval</th>\n",
       "      <th>RF Pval</th>\n",
       "    </tr>\n",
       "  </thead>\n",
       "  <tbody>\n",
       "    <tr>\n",
       "      <th>0</th>\n",
       "      <td>CallerAdult</td>\n",
       "      <td>Spectrogram</td>\n",
       "      <td>87</td>\n",
       "      <td>88</td>\n",
       "      <td>83</td>\n",
       "      <td>91</td>\n",
       "      <td>4</td>\n",
       "      <td>3.585712e-47</td>\n",
       "      <td>5.411474e-49</td>\n",
       "      <td>9.393144e-41</td>\n",
       "    </tr>\n",
       "  </tbody>\n",
       "</table>\n",
       "</div>"
      ],
      "text/plain": [
       "          Type     Features  LDA Correct  QDA Correct  RF Correct  Tested  \\\n",
       "0  CallerAdult  Spectrogram           87           88          83      91   \n",
       "\n",
       "   nClasses      LDA Pval      QDA Pval       RF Pval  \n",
       "0         4  3.585712e-47  5.411474e-49  9.393144e-41  "
      ]
     },
     "execution_count": 9,
     "metadata": {},
     "output_type": "execute_result"
    }
   ],
   "source": [
    "resultsDataFrame"
   ]
  },
  {
   "cell_type": "markdown",
   "metadata": {},
   "source": [
    "If you compare the results here to those obtained with predefined acoustical features, you see that we do slightly better with the spectrogram.  Note that in both cases we end up describing these sounds with 4 features (here the 4 PCs of the spectrograms)  \n",
    "Note also that neither here (because we normalized the spectrograms) nor in tutorial 4 (because we did not include the rms) did the classifiers take the sound intentisity as a cue.  The individual signature in the zebra finch distance call is very high.\n"
   ]
  }
 ],
 "metadata": {
  "kernelspec": {
   "display_name": "Python 3",
   "language": "python",
   "name": "python3"
  },
  "language_info": {
   "codemirror_mode": {
    "name": "ipython",
    "version": 3
   },
   "file_extension": ".py",
   "mimetype": "text/x-python",
   "name": "python",
   "nbconvert_exporter": "python",
   "pygments_lexer": "ipython3",
   "version": "3.7.3"
  }
 },
 "nbformat": 4,
 "nbformat_minor": 2
}
